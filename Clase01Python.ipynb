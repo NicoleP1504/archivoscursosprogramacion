{
  "nbformat": 4,
  "nbformat_minor": 0,
  "metadata": {
    "colab": {
      "provenance": []
    },
    "kernelspec": {
      "name": "python3",
      "display_name": "Python 3"
    },
    "language_info": {
      "name": "python"
    }
  },
  "cells": [
    {
      "cell_type": "code",
      "execution_count": null,
      "metadata": {
        "colab": {
          "base_uri": "https://localhost:8080/"
        },
        "id": "piyk89OjOZ8A",
        "outputId": "43e5a8c2-088d-4afd-aba0-01421136f0c4"
      },
      "outputs": [
        {
          "output_type": "stream",
          "name": "stdout",
          "text": [
            "Hola Mundo\n"
          ]
        }
      ],
      "source": [
        "print(\"Hola Mundo\")"
      ]
    },
    {
      "cell_type": "markdown",
      "source": [
        "TALLER #1"
      ],
      "metadata": {
        "id": "dN3k0qCAr6Z1"
      }
    },
    {
      "cell_type": "code",
      "source": [
        "cédula = \"1000470410\"\n",
        "print(cédula)\n",
        "nombres = \"Nicole Paola\"\n",
        "print(nombres)\n",
        "apellidos = \"Cardenas Berrio\"\n",
        "print(apellidos)\n",
        "edad = \"21\"\n",
        "print (edad)\n",
        "dirección = \"Calle 12 sur #11-67\"\n",
        "print(dirección)\n",
        "celular = \"3147158592\"\n",
        "print(celular)\n",
        "estado_civil = \"Soltera\"\n",
        "print(estado_civil)\n",
        "número_hijos = \"0\"\n",
        "print(número_hijos)\n",
        "estatura = \"160\"\n",
        "print(estatura)\n",
        "fecha_contratación = \"17/03/2022\"\n",
        "print(fecha_contratación)\n",
        "sueldo = \"1300000\"\n",
        "print(sueldo)\n",
        "dias_laborados = 365\n",
        "print(dias_laborados)"
      ],
      "metadata": {
        "colab": {
          "base_uri": "https://localhost:8080/"
        },
        "id": "OzZR7WtfoMuy",
        "outputId": "80612d4b-61eb-4885-ad10-158b8b0c313a"
      },
      "execution_count": null,
      "outputs": [
        {
          "output_type": "stream",
          "name": "stdout",
          "text": [
            "1000470410\n",
            "Nicole Paola\n",
            "Cardenas Berrio\n",
            "21\n",
            "Calle 12 sur #11-67\n",
            "3147158592\n",
            "Soltera\n",
            "0\n",
            "160\n",
            "17/03/2022\n",
            "1300000\n",
            "365\n"
          ]
        }
      ]
    }
  ]
}