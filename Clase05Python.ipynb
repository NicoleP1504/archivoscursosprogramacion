{
  "nbformat": 4,
  "nbformat_minor": 0,
  "metadata": {
    "colab": {
      "provenance": []
    },
    "kernelspec": {
      "name": "python3",
      "display_name": "Python 3"
    },
    "language_info": {
      "name": "python"
    }
  },
  "cells": [
    {
      "cell_type": "markdown",
      "source": [
        "TALLER #5"
      ],
      "metadata": {
        "id": "EVnyw4KnR_aa"
      }
    },
    {
      "cell_type": "code",
      "source": [
        "def mostrar_informacion(cedula, nombres, apellidos, edad, direccion, celular, estado_civil, numero_hijos, estatura, fecha_contratacion, sueldo, dias_laborados):\n",
        "    print(\"Cédula:\", cedula)\n",
        "    print(\"Nombres:\", nombres)\n",
        "    print(\"Apellidos:\", apellidos)\n",
        "    print(\"Edad:\", edad)\n",
        "    print(\"Dirección:\", direccion)\n",
        "    print(\"Celular:\", celular)\n",
        "    print(\"Estado civil:\", estado_civil)\n",
        "    print(\"Número de hijos:\", numero_hijos)\n",
        "    print(\"Estatura:\", estatura)\n",
        "    print(\"Fecha de contratación:\", fecha_contratacion)\n",
        "    print(\"Sueldo:\", sueldo)\n",
        "    print(\"Días laborados:\", dias_laborados)\n",
        "\n",
        "numero_personas = 2\n",
        "\n",
        "for i in range(numero_personas):\n",
        "    print(f\"\\nIngrese la información de la persona {i + 1}:\")\n",
        "\n",
        "    cedula = input(\"Cédula: \")\n",
        "    nombres = input(\"Nombres: \")\n",
        "    apellidos = input(\"Apellidos: \")\n",
        "    edad = input(\"Edad: \")\n",
        "    direccion = input(\"Dirección: \")\n",
        "    celular = input(\"Celular: \")\n",
        "    estado_civil = input(\"Estado civil: \")\n",
        "    numero_hijos = input(\"Número de hijos: \")\n",
        "    estatura = input(\"Estatura: \")\n",
        "    fecha_contratacion = input(\"Fecha de contratación: \")\n",
        "    sueldo = input(\"Sueldo: \")\n",
        "    dias_laborados = int(input(\"Días laborados: \"))\n",
        "\n",
        "    mostrar_informacion(cedula, nombres, apellidos, edad, direccion, celular, estado_civil, numero_hijos, estatura, fecha_contratacion, sueldo, dias_laborados)\n"
      ],
      "metadata": {
        "colab": {
          "base_uri": "https://localhost:8080/"
        },
        "id": "nvYOVOCfYmgt",
        "outputId": "42fc101f-97a8-4d49-b595-900a2e2e4456"
      },
      "execution_count": 12,
      "outputs": [
        {
          "output_type": "stream",
          "name": "stdout",
          "text": [
            "\n",
            "Ingrese la información de la persona 1:\n",
            "Cédula: 1000470410\n",
            "Nombres: Nicole Paola\n",
            "Apellidos: Cardenas Berrio \n",
            "Edad: 21\n",
            "Dirección: calle 12 sur # 11-67\n",
            "Celular: 3147158592\n",
            "Estado civil: soltera\n",
            "Número de hijos: 0\n",
            "Estatura: 160\n",
            "Fecha de contratación: 17/03/2022\n",
            "Sueldo: 1300000\n",
            "Días laborados: 368\n",
            "Cédula: 1000470410\n",
            "Nombres: Nicole Paola\n",
            "Apellidos: Cardenas Berrio \n",
            "Edad: 21\n",
            "Dirección: calle 12 sur # 11-67\n",
            "Celular: 3147158592\n",
            "Estado civil: soltera\n",
            "Número de hijos: 0\n",
            "Estatura: 160\n",
            "Fecha de contratación: 17/03/2022\n",
            "Sueldo: 1300000\n",
            "Días laborados: 368\n",
            "\n",
            "Ingrese la información de la persona 2:\n",
            "Cédula: 1234567890\n",
            "Nombres: Pepito \n",
            "Apellidos: Perez\n",
            "Edad: 32\n",
            "Dirección: calle 12 sur # 12- 67\n",
            "Celular: 3122456734\n",
            "Estado civil: casado\n",
            "Número de hijos: 3\n",
            "Estatura: 178\n",
            "Fecha de contratación: 20/03/2022\n",
            "Sueldo: 1500000\n",
            "Días laborados: 365\n",
            "Cédula: 1234567890\n",
            "Nombres: Pepito \n",
            "Apellidos: Perez\n",
            "Edad: 32\n",
            "Dirección: calle 12 sur # 12- 67\n",
            "Celular: 3122456734\n",
            "Estado civil: casado\n",
            "Número de hijos: 3\n",
            "Estatura: 178\n",
            "Fecha de contratación: 20/03/2022\n",
            "Sueldo: 1500000\n",
            "Días laborados: 365\n"
          ]
        }
      ]
    }
  ]
}