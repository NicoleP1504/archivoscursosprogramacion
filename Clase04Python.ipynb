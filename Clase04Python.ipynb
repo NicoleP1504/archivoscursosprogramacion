{
  "nbformat": 4,
  "nbformat_minor": 0,
  "metadata": {
    "colab": {
      "provenance": []
    },
    "kernelspec": {
      "name": "python3",
      "display_name": "Python 3"
    },
    "language_info": {
      "name": "python"
    }
  },
  "cells": [
    {
      "cell_type": "markdown",
      "source": [
        "TALLER #4\n"
      ],
      "metadata": {
        "id": "4rk7ycKwQzo4"
      }
    },
    {
      "cell_type": "code",
      "source": [
        "for i in range(2, 101, 2):\n",
        "    print(i)"
      ],
      "metadata": {
        "colab": {
          "base_uri": "https://localhost:8080/"
        },
        "id": "H8B6t95nQ06J",
        "outputId": "5f2cd564-3e1c-4235-a2bf-0c9fc1c9b402"
      },
      "execution_count": 1,
      "outputs": [
        {
          "output_type": "stream",
          "name": "stdout",
          "text": [
            "2\n",
            "4\n",
            "6\n",
            "8\n",
            "10\n",
            "12\n",
            "14\n",
            "16\n",
            "18\n",
            "20\n",
            "22\n",
            "24\n",
            "26\n",
            "28\n",
            "30\n",
            "32\n",
            "34\n",
            "36\n",
            "38\n",
            "40\n",
            "42\n",
            "44\n",
            "46\n",
            "48\n",
            "50\n",
            "52\n",
            "54\n",
            "56\n",
            "58\n",
            "60\n",
            "62\n",
            "64\n",
            "66\n",
            "68\n",
            "70\n",
            "72\n",
            "74\n",
            "76\n",
            "78\n",
            "80\n",
            "82\n",
            "84\n",
            "86\n",
            "88\n",
            "90\n",
            "92\n",
            "94\n",
            "96\n",
            "98\n",
            "100\n"
          ]
        }
      ]
    },
    {
      "cell_type": "code",
      "source": [
        "edad = int(input(\"Por favor, ingresa tu edad: \"))\n",
        "\n",
        "for i in range(1, edad + 1):\n",
        "    print(\"Has cumplido\", i, \"años\")"
      ],
      "metadata": {
        "colab": {
          "base_uri": "https://localhost:8080/"
        },
        "id": "48w5xDSEQ8xS",
        "outputId": "df6ba9f5-73a2-4823-beb1-edb1b892d567"
      },
      "execution_count": 2,
      "outputs": [
        {
          "output_type": "stream",
          "name": "stdout",
          "text": [
            "Por favor, ingresa tu edad: 21\n",
            "Has cumplido 1 años\n",
            "Has cumplido 2 años\n",
            "Has cumplido 3 años\n",
            "Has cumplido 4 años\n",
            "Has cumplido 5 años\n",
            "Has cumplido 6 años\n",
            "Has cumplido 7 años\n",
            "Has cumplido 8 años\n",
            "Has cumplido 9 años\n",
            "Has cumplido 10 años\n",
            "Has cumplido 11 años\n",
            "Has cumplido 12 años\n",
            "Has cumplido 13 años\n",
            "Has cumplido 14 años\n",
            "Has cumplido 15 años\n",
            "Has cumplido 16 años\n",
            "Has cumplido 17 años\n",
            "Has cumplido 18 años\n",
            "Has cumplido 19 años\n",
            "Has cumplido 20 años\n",
            "Has cumplido 21 años\n"
          ]
        }
      ]
    },
    {
      "cell_type": "code",
      "source": [
        "numero = int(input(\"Por favor, ingresa un número entero positivo: \"))\n",
        "\n",
        "numeros_impares = []\n",
        "\n",
        "for i in range(1, numero + 1, 2):\n",
        "    numeros_impares.append(str(i))\n",
        "\n",
        "print(\",\".join(numeros_impares))"
      ],
      "metadata": {
        "colab": {
          "base_uri": "https://localhost:8080/"
        },
        "id": "a0rO4cVhRME3",
        "outputId": "9b153922-94d8-407a-c299-25d682af7a52"
      },
      "execution_count": 3,
      "outputs": [
        {
          "output_type": "stream",
          "name": "stdout",
          "text": [
            "Por favor, ingresa un número entero positivo: 28\n",
            "1,3,5,7,9,11,13,15,17,19,21,23,25,27\n"
          ]
        }
      ]
    },
    {
      "cell_type": "code",
      "source": [
        "suma_pares = 0\n",
        "\n",
        "for i in range(2, 101, 2):\n",
        "    suma_pares += i\n",
        "\n",
        "print(\"La suma de todos los números pares del 1 al 100 es:\", suma_pares)"
      ],
      "metadata": {
        "colab": {
          "base_uri": "https://localhost:8080/"
        },
        "id": "md9daDVxRUq7",
        "outputId": "4953625e-5558-44e7-974c-f9045a9c2f94"
      },
      "execution_count": 4,
      "outputs": [
        {
          "output_type": "stream",
          "name": "stdout",
          "text": [
            "La suma de todos los números pares del 1 al 100 es: 2550\n"
          ]
        }
      ]
    }
  ]
}