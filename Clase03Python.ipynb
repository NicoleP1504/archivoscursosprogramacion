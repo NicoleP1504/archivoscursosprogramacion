{
  "nbformat": 4,
  "nbformat_minor": 0,
  "metadata": {
    "colab": {
      "provenance": []
    },
    "kernelspec": {
      "name": "python3",
      "display_name": "Python 3"
    },
    "language_info": {
      "name": "python"
    }
  },
  "cells": [
    {
      "cell_type": "markdown",
      "source": [
        "TALLER #3\n"
      ],
      "metadata": {
        "id": "pWvNPoMODgxP"
      }
    },
    {
      "cell_type": "code",
      "source": [
        "edad = \"21\"\n",
        "\n",
        "if int(edad) > 55:\n",
        "  bono_prepension = float(sueldo) * 0.05\n",
        "  print(\"El empleado disfrutará de un bono y sera \")\n",
        "else: \n",
        "  print(\"El empleado no disfrutará de un bono\")\n"
      ],
      "metadata": {
        "colab": {
          "base_uri": "https://localhost:8080/"
        },
        "id": "WtzsyEuiDiAX",
        "outputId": "23cd3a66-b921-4d21-9830-7a0e228cda4e"
      },
      "execution_count": 1,
      "outputs": [
        {
          "output_type": "stream",
          "name": "stdout",
          "text": [
            "El empleado no disfrutará de un bono\n"
          ]
        }
      ]
    },
    {
      "cell_type": "code",
      "source": [
        "estado_civil = \"soltero\"\n",
        "número_hijos = \"0\"\n",
        "if estado_civil == \"casado\" and num_hijos > 1:\n",
        " print (\"Paseo cada diciembre \")\n",
        "else:\n",
        "  print(\"No paseo cada diciembre\")"
      ],
      "metadata": {
        "colab": {
          "base_uri": "https://localhost:8080/"
        },
        "id": "add1kaoUD3FY",
        "outputId": "d11efecb-718e-4daa-f621-722cac6c030a"
      },
      "execution_count": 2,
      "outputs": [
        {
          "output_type": "stream",
          "name": "stdout",
          "text": [
            "No paseo cada diciembre\n"
          ]
        }
      ]
    },
    {
      "cell_type": "code",
      "source": [
        "sueldo = 1300000\n",
        "if 1000000 < sueldo < 1500000:\n",
        "  comision = sueldo * 0.02\n",
        "  print(\"La comision seria de total del 2% ${}\".format(comision))\n",
        "elif 1500001 < sueldo < 2000000:\n",
        "  comision = sueldo * 0.05\n",
        "  print(\"La comision seria de total del 5% ${}\".format(comision))\n",
        "else:\n",
        "  comision = 0\n",
        "  print(\"No habra comision\")"
      ],
      "metadata": {
        "colab": {
          "base_uri": "https://localhost:8080/"
        },
        "id": "8kGfChFDD6aA",
        "outputId": "96aa0fe8-ca66-4bf7-b43a-457c12f2353f"
      },
      "execution_count": 3,
      "outputs": [
        {
          "output_type": "stream",
          "name": "stdout",
          "text": [
            "La comision seria de total del 2% $26000.0\n"
          ]
        }
      ]
    },
    {
      "cell_type": "code",
      "source": [
        "dias_laborados = 365\n",
        "sueldo = 1300000\n",
        "if dias_laborados > 20 and sueldo < 1000000:\n",
        "  print(\"Derecho a bono de alimentación\")\n",
        "else: \n",
        "  print(\"No tendra derecho a bono de alimentacion\")  "
      ],
      "metadata": {
        "colab": {
          "base_uri": "https://localhost:8080/"
        },
        "id": "hw7APztfD-RP",
        "outputId": "3026559a-5e55-4ecb-cf00-68334ff129a8"
      },
      "execution_count": 4,
      "outputs": [
        {
          "output_type": "stream",
          "name": "stdout",
          "text": [
            "No tendra derecho a bono de alimentacion\n"
          ]
        }
      ]
    }
  ]
}