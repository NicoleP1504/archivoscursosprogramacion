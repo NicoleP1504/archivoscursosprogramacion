{
  "nbformat": 4,
  "nbformat_minor": 0,
  "metadata": {
    "colab": {
      "provenance": []
    },
    "kernelspec": {
      "name": "python3",
      "display_name": "Python 3"
    },
    "language_info": {
      "name": "python"
    }
  },
  "cells": [
    {
      "cell_type": "markdown",
      "source": [
        "TALLER #2"
      ],
      "metadata": {
        "id": "QF9SF18UCOjq"
      }
    },
    {
      "cell_type": "code",
      "source": [
        "sueldo_base = float (input ('¿Cuál es el sueldo base del vendedor? '))\n",
        "venta_1 = float (input ('¿Cuánto fue la primera venta? '))\n",
        "venta_2 = float (input ('¿Cuánto fue la segunda venta? '))\n",
        "venta_3 = float (input ('¿Cuánto fue la tercera venta? '))\n",
        "comision = (venta_1 + venta_2 + venta_3) * 0.10\n",
        "total_mensual = sueldo_base + comision\n",
        "print ('El total mensual que recibirá el vendedor es:', total_mensual)"
      ],
      "metadata": {
        "colab": {
          "base_uri": "https://localhost:8080/"
        },
        "id": "quhPHe43CQCr",
        "outputId": "9478ff93-3d25-4d08-cedf-3e58d34149da"
      },
      "execution_count": 1,
      "outputs": [
        {
          "output_type": "stream",
          "name": "stdout",
          "text": [
            "¿Cuál es el sueldo base del vendedor? 830000\n",
            "¿Cuánto fue la primera venta? 60000\n",
            "¿Cuánto fue la segunda venta? 120000\n",
            "¿Cuánto fue la tercera venta? 85000\n",
            "El total mensual que recibirá el vendedor es: 856500.0\n"
          ]
        }
      ]
    },
    {
      "cell_type": "code",
      "source": [
        "precio_total = float (input ('¿Cuál es el precio total de la compra? '))\n",
        "descuento = precio_total * 0.15\n",
        "precio_final = precio_total - descuento\n",
        "print ('El precio final que debería pagar el cliente es:', precio_final)"
      ],
      "metadata": {
        "colab": {
          "base_uri": "https://localhost:8080/"
        },
        "id": "DeTkZr_eCrwW",
        "outputId": "e0d90f18-daa7-44de-f71f-c795ffb8e466"
      },
      "execution_count": 2,
      "outputs": [
        {
          "output_type": "stream",
          "name": "stdout",
          "text": [
            "¿Cuál es el precio total de la compra? 456000\n",
            "El precio final que debería pagar el cliente es: 387600.0\n"
          ]
        }
      ]
    },
    {
      "cell_type": "code",
      "source": [
        "examen_1 = float (input ('¿Cuál fue la calificación del primer examen? '))\n",
        "examen_2 = float (input ('¿Cuál fue la calificación del segundo examen? '))\n",
        "examen_3 = float (input ('¿Cuál fue la calificación del tercer examen? '))\n",
        "calificacion_final = round (examen_1 + examen_2 + examen_3) / 3\n",
        "print ('La calificación final del alumno en Algoritmos es:', calificacion_final)"
      ],
      "metadata": {
        "colab": {
          "base_uri": "https://localhost:8080/"
        },
        "id": "zYY9xbT0C2DO",
        "outputId": "f85766b3-24d3-486f-ec2e-bf0fe5d5a2c5"
      },
      "execution_count": 4,
      "outputs": [
        {
          "output_type": "stream",
          "name": "stdout",
          "text": [
            "¿Cuál fue la calificación del primer examen? 3.5\n",
            "¿Cuál fue la calificación del segundo examen? 4.2\n",
            "¿Cuál fue la calificación del tercer examen? 4.6\n",
            "La calificación final del alumno en Algoritmos es: 4.0\n"
          ]
        }
      ]
    },
    {
      "cell_type": "code",
      "source": [
        "num_hombres = int (input ('¿Cuántos hombres hay en el grupo? '))\n",
        "num_mujeres = int (input ('¿Cuántas mujeres hay en el grupo? '))\n",
        "total_estudiantes = num_hombres + num_mujeres\n",
        "porcentaje_hombres = (num_hombres / total_estudiantes) * 100\n",
        "porcentaje_mujeres = (num_mujeres / total_estudiantes) * 100\n",
        "print ('El porcentaje de hombres es:', porcentaje_hombres, 'y el porcentaje de mujeres es:', porcentaje_mujeres)"
      ],
      "metadata": {
        "colab": {
          "base_uri": "https://localhost:8080/"
        },
        "id": "u6-b6FZ1DNGC",
        "outputId": "162316db-5417-402b-b8f5-381e1cfe83c6"
      },
      "execution_count": 5,
      "outputs": [
        {
          "output_type": "stream",
          "name": "stdout",
          "text": [
            "¿Cuántos hombres hay en el grupo? 23\n",
            "¿Cuántas mujeres hay en el grupo? 36\n",
            "El porcentaje de hombres es: 38.983050847457626 y el porcentaje de mujeres es: 61.016949152542374\n"
          ]
        }
      ]
    }
  ]
}