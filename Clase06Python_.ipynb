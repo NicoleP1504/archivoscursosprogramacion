{
  "nbformat": 4,
  "nbformat_minor": 0,
  "metadata": {
    "colab": {
      "provenance": []
    },
    "kernelspec": {
      "name": "python3",
      "display_name": "Python 3"
    },
    "language_info": {
      "name": "python"
    }
  },
  "cells": [
    {
      "cell_type": "markdown",
      "source": [
        "Segundo punto Taller #5\n"
      ],
      "metadata": {
        "id": "Q4cUVKgbcwCl"
      }
    },
    {
      "cell_type": "code",
      "execution_count": 1,
      "metadata": {
        "colab": {
          "base_uri": "https://localhost:8080/"
        },
        "id": "xjkFHLVtbahg",
        "outputId": "23722d89-21ff-4c84-cc37-4b1ad6d28dd0"
      },
      "outputs": [
        {
          "name": "stdout",
          "output_type": "stream",
          "text": [
            "¿Cuál es el sueldo base del vendedor? 1300000\n",
            "¿Cuánto fue la primera venta? 150000\n",
            "¿Cuánto fue la segunda venta? 89000\n",
            "¿Cuánto fue la tercera venta? 127000\n",
            "El total mensual que recibirá el vendedor es: 1336600.0\n",
            "¿Desea calcular el total mensual para otro vendedor? (S/N): s\n",
            "¿Cuál es el sueldo base del vendedor? 2000000\n",
            "¿Cuánto fue la primera venta? 34000\n",
            "¿Cuánto fue la segunda venta? 570000\n",
            "¿Cuánto fue la tercera venta? 76000\n",
            "El total mensual que recibirá el vendedor es: 2068000.0\n",
            "¿Desea calcular el total mensual para otro vendedor? (S/N): n\n"
          ]
        }
      ],
      "source": [
        "def calcular_total_mensual(sueldo_base, venta_1, venta_2, venta_3):\n",
        "    comision = (venta_1 + venta_2 + venta_3) * 0.10\n",
        "    total_mensual = sueldo_base + comision\n",
        "    return total_mensual\n",
        "\n",
        "continuar = 'S'\n",
        "\n",
        "while continuar.upper() == 'S':\n",
        "    sueldo_base = float(input('¿Cuál es el sueldo base del vendedor? '))\n",
        "    venta_1 = float(input('¿Cuánto fue la primera venta? '))\n",
        "    venta_2 = float(input('¿Cuánto fue la segunda venta? '))\n",
        "    venta_3 = float(input('¿Cuánto fue la tercera venta? '))\n",
        "\n",
        "    total_mensual = calcular_total_mensual(sueldo_base, venta_1, venta_2, venta_3)\n",
        "    print('El total mensual que recibirá el vendedor es:', total_mensual)\n",
        "\n",
        "    continuar = input('¿Desea calcular el total mensual para otro vendedor? (S/N): ')\n"
      ]
    }
  ]
}